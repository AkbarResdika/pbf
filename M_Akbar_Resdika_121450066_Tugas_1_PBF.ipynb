{
  "cells": [
    {
      "cell_type": "markdown",
      "id": "08866948-60cf-4138-8767-9defac60a065",
      "metadata": {
        "jp-MarkdownHeadingCollapsed": true,
        "tags": [],
        "id": "08866948-60cf-4138-8767-9defac60a065"
      },
      "source": [
        "# Nomor 1\n",
        " Jelaskan menggunakan tabel mengenai kelebihan dan kekurangan \n",
        "paradigma procedural dibandingkan dengan object oriented (minimal 3) !\n"
      ]
    },
    {
      "cell_type": "code",
      "execution_count": 2,
      "id": "d9141017-23f6-4eae-95d0-4d9b1992512a",
      "metadata": {
        "id": "d9141017-23f6-4eae-95d0-4d9b1992512a"
      },
      "outputs": [],
      "source": [
        "import pandas as pd"
      ]
    },
    {
      "cell_type": "code",
      "execution_count": 15,
      "id": "057f66a8-751e-4b5f-8cfd-44015724d493",
      "metadata": {
        "colab": {
          "base_uri": "https://localhost:8080/",
          "height": 143
        },
        "id": "057f66a8-751e-4b5f-8cfd-44015724d493",
        "outputId": "42e2a3f6-aa3e-42de-b781-57132719c4d7"
      },
      "outputs": [
        {
          "output_type": "execute_result",
          "data": {
            "text/plain": [
              "                                          kelebihan  \\\n",
              "0  Cocok untuk project atau aplikasi yang sederhana   \n",
              "1             Mudah dipahami oleh programmer pemula   \n",
              "2    Keerektifan eksekusi baruisan perintah program   \n",
              "\n",
              "                                          kekurangan  \n",
              "0  Prosedural tidak memiliki access modifiers sep...  \n",
              "1     Prosedural kurang aman dibandingkan dengan OOP  \n",
              "2  Program cukup sulit untuk dirawat karena susah...  "
            ],
            "text/html": [
              "\n",
              "  <div id=\"df-b6163dbc-dd02-4d1c-b29e-b9af1d0db6d4\">\n",
              "    <div class=\"colab-df-container\">\n",
              "      <div>\n",
              "<style scoped>\n",
              "    .dataframe tbody tr th:only-of-type {\n",
              "        vertical-align: middle;\n",
              "    }\n",
              "\n",
              "    .dataframe tbody tr th {\n",
              "        vertical-align: top;\n",
              "    }\n",
              "\n",
              "    .dataframe thead th {\n",
              "        text-align: right;\n",
              "    }\n",
              "</style>\n",
              "<table border=\"1\" class=\"dataframe\">\n",
              "  <thead>\n",
              "    <tr style=\"text-align: right;\">\n",
              "      <th></th>\n",
              "      <th>kelebihan</th>\n",
              "      <th>kekurangan</th>\n",
              "    </tr>\n",
              "  </thead>\n",
              "  <tbody>\n",
              "    <tr>\n",
              "      <th>0</th>\n",
              "      <td>Cocok untuk project atau aplikasi yang sederhana</td>\n",
              "      <td>Prosedural tidak memiliki access modifiers sep...</td>\n",
              "    </tr>\n",
              "    <tr>\n",
              "      <th>1</th>\n",
              "      <td>Mudah dipahami oleh programmer pemula</td>\n",
              "      <td>Prosedural kurang aman dibandingkan dengan OOP</td>\n",
              "    </tr>\n",
              "    <tr>\n",
              "      <th>2</th>\n",
              "      <td>Keerektifan eksekusi baruisan perintah program</td>\n",
              "      <td>Program cukup sulit untuk dirawat karena susah...</td>\n",
              "    </tr>\n",
              "  </tbody>\n",
              "</table>\n",
              "</div>\n",
              "      <button class=\"colab-df-convert\" onclick=\"convertToInteractive('df-b6163dbc-dd02-4d1c-b29e-b9af1d0db6d4')\"\n",
              "              title=\"Convert this dataframe to an interactive table.\"\n",
              "              style=\"display:none;\">\n",
              "        \n",
              "  <svg xmlns=\"http://www.w3.org/2000/svg\" height=\"24px\"viewBox=\"0 0 24 24\"\n",
              "       width=\"24px\">\n",
              "    <path d=\"M0 0h24v24H0V0z\" fill=\"none\"/>\n",
              "    <path d=\"M18.56 5.44l.94 2.06.94-2.06 2.06-.94-2.06-.94-.94-2.06-.94 2.06-2.06.94zm-11 1L8.5 8.5l.94-2.06 2.06-.94-2.06-.94L8.5 2.5l-.94 2.06-2.06.94zm10 10l.94 2.06.94-2.06 2.06-.94-2.06-.94-.94-2.06-.94 2.06-2.06.94z\"/><path d=\"M17.41 7.96l-1.37-1.37c-.4-.4-.92-.59-1.43-.59-.52 0-1.04.2-1.43.59L10.3 9.45l-7.72 7.72c-.78.78-.78 2.05 0 2.83L4 21.41c.39.39.9.59 1.41.59.51 0 1.02-.2 1.41-.59l7.78-7.78 2.81-2.81c.8-.78.8-2.07 0-2.86zM5.41 20L4 18.59l7.72-7.72 1.47 1.35L5.41 20z\"/>\n",
              "  </svg>\n",
              "      </button>\n",
              "      \n",
              "  <style>\n",
              "    .colab-df-container {\n",
              "      display:flex;\n",
              "      flex-wrap:wrap;\n",
              "      gap: 12px;\n",
              "    }\n",
              "\n",
              "    .colab-df-convert {\n",
              "      background-color: #E8F0FE;\n",
              "      border: none;\n",
              "      border-radius: 50%;\n",
              "      cursor: pointer;\n",
              "      display: none;\n",
              "      fill: #1967D2;\n",
              "      height: 32px;\n",
              "      padding: 0 0 0 0;\n",
              "      width: 32px;\n",
              "    }\n",
              "\n",
              "    .colab-df-convert:hover {\n",
              "      background-color: #E2EBFA;\n",
              "      box-shadow: 0px 1px 2px rgba(60, 64, 67, 0.3), 0px 1px 3px 1px rgba(60, 64, 67, 0.15);\n",
              "      fill: #174EA6;\n",
              "    }\n",
              "\n",
              "    [theme=dark] .colab-df-convert {\n",
              "      background-color: #3B4455;\n",
              "      fill: #D2E3FC;\n",
              "    }\n",
              "\n",
              "    [theme=dark] .colab-df-convert:hover {\n",
              "      background-color: #434B5C;\n",
              "      box-shadow: 0px 1px 3px 1px rgba(0, 0, 0, 0.15);\n",
              "      filter: drop-shadow(0px 1px 2px rgba(0, 0, 0, 0.3));\n",
              "      fill: #FFFFFF;\n",
              "    }\n",
              "  </style>\n",
              "\n",
              "      <script>\n",
              "        const buttonEl =\n",
              "          document.querySelector('#df-b6163dbc-dd02-4d1c-b29e-b9af1d0db6d4 button.colab-df-convert');\n",
              "        buttonEl.style.display =\n",
              "          google.colab.kernel.accessAllowed ? 'block' : 'none';\n",
              "\n",
              "        async function convertToInteractive(key) {\n",
              "          const element = document.querySelector('#df-b6163dbc-dd02-4d1c-b29e-b9af1d0db6d4');\n",
              "          const dataTable =\n",
              "            await google.colab.kernel.invokeFunction('convertToInteractive',\n",
              "                                                     [key], {});\n",
              "          if (!dataTable) return;\n",
              "\n",
              "          const docLinkHtml = 'Like what you see? Visit the ' +\n",
              "            '<a target=\"_blank\" href=https://colab.research.google.com/notebooks/data_table.ipynb>data table notebook</a>'\n",
              "            + ' to learn more about interactive tables.';\n",
              "          element.innerHTML = '';\n",
              "          dataTable['output_type'] = 'display_data';\n",
              "          await google.colab.output.renderOutput(dataTable, element);\n",
              "          const docLink = document.createElement('div');\n",
              "          docLink.innerHTML = docLinkHtml;\n",
              "          element.appendChild(docLink);\n",
              "        }\n",
              "      </script>\n",
              "    </div>\n",
              "  </div>\n",
              "  "
            ]
          },
          "metadata": {},
          "execution_count": 15
        }
      ],
      "source": [
        "tabel_1= {'kelebihan' :['Cocok untuk project atau aplikasi yang sederhana', 'Mudah dipahami oleh programmer pemula', 'Keerektifan eksekusi baruisan perintah program'],\n",
        "         'kekurangan' : ['Prosedural tidak memiliki access modifiers seperti pada OOP', 'Prosedural kurang aman dibandingkan dengan OOP', 'Program cukup sulit untuk dirawat karena susah untuk diubah']\n",
        "        }\n",
        "df = pd.DataFrame(tabel_1)\n",
        "df.head()"
      ]
    },
    {
      "cell_type": "markdown",
      "id": "3abf994a-844a-4e27-a08c-243d48b47150",
      "metadata": {
        "jp-MarkdownHeadingCollapsed": true,
        "tags": [],
        "id": "3abf994a-844a-4e27-a08c-243d48b47150"
      },
      "source": [
        "# Nomor 2\n",
        "Jelaskan menggunakan tabel mengenai kelebihan dan kekurangan \n",
        "paradigma object oriented dibandingkan dengan functional"
      ]
    },
    {
      "cell_type": "code",
      "execution_count": 16,
      "id": "268f2def-92ff-46b7-9a71-54c6ec132adf",
      "metadata": {
        "colab": {
          "base_uri": "https://localhost:8080/",
          "height": 143
        },
        "id": "268f2def-92ff-46b7-9a71-54c6ec132adf",
        "outputId": "07968ddf-ab4c-4106-ea5b-b4a316e2a7b5"
      },
      "outputs": [
        {
          "output_type": "execute_result",
          "data": {
            "text/plain": [
              "                                      kelebihan  \\\n",
              "0                 OOP memiliki access modifiers   \n",
              "1  Lebih aman karna dapat melakukan abstraction   \n",
              "2              cocok untuk projek yang kompleks   \n",
              "\n",
              "                                  kekurangan  \n",
              "0                       sulit untuk dipahami  \n",
              "1  Membutuhkan ruang memory yang lebih besar  \n",
              "2                                Reusability  "
            ],
            "text/html": [
              "\n",
              "  <div id=\"df-417d7ba2-c333-473c-89e7-3e03395011e4\">\n",
              "    <div class=\"colab-df-container\">\n",
              "      <div>\n",
              "<style scoped>\n",
              "    .dataframe tbody tr th:only-of-type {\n",
              "        vertical-align: middle;\n",
              "    }\n",
              "\n",
              "    .dataframe tbody tr th {\n",
              "        vertical-align: top;\n",
              "    }\n",
              "\n",
              "    .dataframe thead th {\n",
              "        text-align: right;\n",
              "    }\n",
              "</style>\n",
              "<table border=\"1\" class=\"dataframe\">\n",
              "  <thead>\n",
              "    <tr style=\"text-align: right;\">\n",
              "      <th></th>\n",
              "      <th>kelebihan</th>\n",
              "      <th>kekurangan</th>\n",
              "    </tr>\n",
              "  </thead>\n",
              "  <tbody>\n",
              "    <tr>\n",
              "      <th>0</th>\n",
              "      <td>OOP memiliki access modifiers</td>\n",
              "      <td>sulit untuk dipahami</td>\n",
              "    </tr>\n",
              "    <tr>\n",
              "      <th>1</th>\n",
              "      <td>Lebih aman karna dapat melakukan abstraction</td>\n",
              "      <td>Membutuhkan ruang memory yang lebih besar</td>\n",
              "    </tr>\n",
              "    <tr>\n",
              "      <th>2</th>\n",
              "      <td>cocok untuk projek yang kompleks</td>\n",
              "      <td>Reusability</td>\n",
              "    </tr>\n",
              "  </tbody>\n",
              "</table>\n",
              "</div>\n",
              "      <button class=\"colab-df-convert\" onclick=\"convertToInteractive('df-417d7ba2-c333-473c-89e7-3e03395011e4')\"\n",
              "              title=\"Convert this dataframe to an interactive table.\"\n",
              "              style=\"display:none;\">\n",
              "        \n",
              "  <svg xmlns=\"http://www.w3.org/2000/svg\" height=\"24px\"viewBox=\"0 0 24 24\"\n",
              "       width=\"24px\">\n",
              "    <path d=\"M0 0h24v24H0V0z\" fill=\"none\"/>\n",
              "    <path d=\"M18.56 5.44l.94 2.06.94-2.06 2.06-.94-2.06-.94-.94-2.06-.94 2.06-2.06.94zm-11 1L8.5 8.5l.94-2.06 2.06-.94-2.06-.94L8.5 2.5l-.94 2.06-2.06.94zm10 10l.94 2.06.94-2.06 2.06-.94-2.06-.94-.94-2.06-.94 2.06-2.06.94z\"/><path d=\"M17.41 7.96l-1.37-1.37c-.4-.4-.92-.59-1.43-.59-.52 0-1.04.2-1.43.59L10.3 9.45l-7.72 7.72c-.78.78-.78 2.05 0 2.83L4 21.41c.39.39.9.59 1.41.59.51 0 1.02-.2 1.41-.59l7.78-7.78 2.81-2.81c.8-.78.8-2.07 0-2.86zM5.41 20L4 18.59l7.72-7.72 1.47 1.35L5.41 20z\"/>\n",
              "  </svg>\n",
              "      </button>\n",
              "      \n",
              "  <style>\n",
              "    .colab-df-container {\n",
              "      display:flex;\n",
              "      flex-wrap:wrap;\n",
              "      gap: 12px;\n",
              "    }\n",
              "\n",
              "    .colab-df-convert {\n",
              "      background-color: #E8F0FE;\n",
              "      border: none;\n",
              "      border-radius: 50%;\n",
              "      cursor: pointer;\n",
              "      display: none;\n",
              "      fill: #1967D2;\n",
              "      height: 32px;\n",
              "      padding: 0 0 0 0;\n",
              "      width: 32px;\n",
              "    }\n",
              "\n",
              "    .colab-df-convert:hover {\n",
              "      background-color: #E2EBFA;\n",
              "      box-shadow: 0px 1px 2px rgba(60, 64, 67, 0.3), 0px 1px 3px 1px rgba(60, 64, 67, 0.15);\n",
              "      fill: #174EA6;\n",
              "    }\n",
              "\n",
              "    [theme=dark] .colab-df-convert {\n",
              "      background-color: #3B4455;\n",
              "      fill: #D2E3FC;\n",
              "    }\n",
              "\n",
              "    [theme=dark] .colab-df-convert:hover {\n",
              "      background-color: #434B5C;\n",
              "      box-shadow: 0px 1px 3px 1px rgba(0, 0, 0, 0.15);\n",
              "      filter: drop-shadow(0px 1px 2px rgba(0, 0, 0, 0.3));\n",
              "      fill: #FFFFFF;\n",
              "    }\n",
              "  </style>\n",
              "\n",
              "      <script>\n",
              "        const buttonEl =\n",
              "          document.querySelector('#df-417d7ba2-c333-473c-89e7-3e03395011e4 button.colab-df-convert');\n",
              "        buttonEl.style.display =\n",
              "          google.colab.kernel.accessAllowed ? 'block' : 'none';\n",
              "\n",
              "        async function convertToInteractive(key) {\n",
              "          const element = document.querySelector('#df-417d7ba2-c333-473c-89e7-3e03395011e4');\n",
              "          const dataTable =\n",
              "            await google.colab.kernel.invokeFunction('convertToInteractive',\n",
              "                                                     [key], {});\n",
              "          if (!dataTable) return;\n",
              "\n",
              "          const docLinkHtml = 'Like what you see? Visit the ' +\n",
              "            '<a target=\"_blank\" href=https://colab.research.google.com/notebooks/data_table.ipynb>data table notebook</a>'\n",
              "            + ' to learn more about interactive tables.';\n",
              "          element.innerHTML = '';\n",
              "          dataTable['output_type'] = 'display_data';\n",
              "          await google.colab.output.renderOutput(dataTable, element);\n",
              "          const docLink = document.createElement('div');\n",
              "          docLink.innerHTML = docLinkHtml;\n",
              "          element.appendChild(docLink);\n",
              "        }\n",
              "      </script>\n",
              "    </div>\n",
              "  </div>\n",
              "  "
            ]
          },
          "metadata": {},
          "execution_count": 16
        }
      ],
      "source": [
        "tabel_2= {'kelebihan' :['OOP memiliki access modifiers','Lebih aman karna dapat melakukan abstraction', 'cocok untuk projek yang kompleks'],\n",
        "         'kekurangan' : ['sulit untuk dipahami', 'Membutuhkan ruang memory yang lebih besar', 'Reusability']\n",
        "        }\n",
        "df = pd.DataFrame (tabel_2)\n",
        "df.head()"
      ]
    },
    {
      "cell_type": "markdown",
      "id": "d3390742-f3a0-4525-b515-95e267761047",
      "metadata": {
        "jp-MarkdownHeadingCollapsed": true,
        "tags": [],
        "id": "d3390742-f3a0-4525-b515-95e267761047"
      },
      "source": [
        "# Nomor 3\n",
        "Jelaskan menggunakan tabel mengenai kelebihan dan kekurangan \n",
        "paradigma procedural dibandingkan dengan functional"
      ]
    },
    {
      "cell_type": "code",
      "execution_count": 18,
      "id": "0bf80366-033c-4df0-8f0e-da860ccf2bf4",
      "metadata": {
        "colab": {
          "base_uri": "https://localhost:8080/",
          "height": 143
        },
        "id": "0bf80366-033c-4df0-8f0e-da860ccf2bf4",
        "outputId": "40ee20af-c19d-46f4-ca08-705b920a2b78"
      },
      "outputs": [
        {
          "output_type": "execute_result",
          "data": {
            "text/plain": [
              "                                           kelebihan  \\\n",
              "0  Pengimplementasian algoritma lebih mudah diban...   \n",
              "1                                Style bersifat umum   \n",
              "2  Bersifat flow step-by-step jadi lebih mudah di...   \n",
              "\n",
              "                                  kekurangan  \n",
              "0                       Flow data tidak aman  \n",
              "1  Membutuhkan ruang memory yang lebih besar  \n",
              "2                                Reusability  "
            ],
            "text/html": [
              "\n",
              "  <div id=\"df-da2d0012-b7e3-4d05-898c-18ef128a9698\">\n",
              "    <div class=\"colab-df-container\">\n",
              "      <div>\n",
              "<style scoped>\n",
              "    .dataframe tbody tr th:only-of-type {\n",
              "        vertical-align: middle;\n",
              "    }\n",
              "\n",
              "    .dataframe tbody tr th {\n",
              "        vertical-align: top;\n",
              "    }\n",
              "\n",
              "    .dataframe thead th {\n",
              "        text-align: right;\n",
              "    }\n",
              "</style>\n",
              "<table border=\"1\" class=\"dataframe\">\n",
              "  <thead>\n",
              "    <tr style=\"text-align: right;\">\n",
              "      <th></th>\n",
              "      <th>kelebihan</th>\n",
              "      <th>kekurangan</th>\n",
              "    </tr>\n",
              "  </thead>\n",
              "  <tbody>\n",
              "    <tr>\n",
              "      <th>0</th>\n",
              "      <td>Pengimplementasian algoritma lebih mudah diban...</td>\n",
              "      <td>Flow data tidak aman</td>\n",
              "    </tr>\n",
              "    <tr>\n",
              "      <th>1</th>\n",
              "      <td>Style bersifat umum</td>\n",
              "      <td>Membutuhkan ruang memory yang lebih besar</td>\n",
              "    </tr>\n",
              "    <tr>\n",
              "      <th>2</th>\n",
              "      <td>Bersifat flow step-by-step jadi lebih mudah di...</td>\n",
              "      <td>Reusability</td>\n",
              "    </tr>\n",
              "  </tbody>\n",
              "</table>\n",
              "</div>\n",
              "      <button class=\"colab-df-convert\" onclick=\"convertToInteractive('df-da2d0012-b7e3-4d05-898c-18ef128a9698')\"\n",
              "              title=\"Convert this dataframe to an interactive table.\"\n",
              "              style=\"display:none;\">\n",
              "        \n",
              "  <svg xmlns=\"http://www.w3.org/2000/svg\" height=\"24px\"viewBox=\"0 0 24 24\"\n",
              "       width=\"24px\">\n",
              "    <path d=\"M0 0h24v24H0V0z\" fill=\"none\"/>\n",
              "    <path d=\"M18.56 5.44l.94 2.06.94-2.06 2.06-.94-2.06-.94-.94-2.06-.94 2.06-2.06.94zm-11 1L8.5 8.5l.94-2.06 2.06-.94-2.06-.94L8.5 2.5l-.94 2.06-2.06.94zm10 10l.94 2.06.94-2.06 2.06-.94-2.06-.94-.94-2.06-.94 2.06-2.06.94z\"/><path d=\"M17.41 7.96l-1.37-1.37c-.4-.4-.92-.59-1.43-.59-.52 0-1.04.2-1.43.59L10.3 9.45l-7.72 7.72c-.78.78-.78 2.05 0 2.83L4 21.41c.39.39.9.59 1.41.59.51 0 1.02-.2 1.41-.59l7.78-7.78 2.81-2.81c.8-.78.8-2.07 0-2.86zM5.41 20L4 18.59l7.72-7.72 1.47 1.35L5.41 20z\"/>\n",
              "  </svg>\n",
              "      </button>\n",
              "      \n",
              "  <style>\n",
              "    .colab-df-container {\n",
              "      display:flex;\n",
              "      flex-wrap:wrap;\n",
              "      gap: 12px;\n",
              "    }\n",
              "\n",
              "    .colab-df-convert {\n",
              "      background-color: #E8F0FE;\n",
              "      border: none;\n",
              "      border-radius: 50%;\n",
              "      cursor: pointer;\n",
              "      display: none;\n",
              "      fill: #1967D2;\n",
              "      height: 32px;\n",
              "      padding: 0 0 0 0;\n",
              "      width: 32px;\n",
              "    }\n",
              "\n",
              "    .colab-df-convert:hover {\n",
              "      background-color: #E2EBFA;\n",
              "      box-shadow: 0px 1px 2px rgba(60, 64, 67, 0.3), 0px 1px 3px 1px rgba(60, 64, 67, 0.15);\n",
              "      fill: #174EA6;\n",
              "    }\n",
              "\n",
              "    [theme=dark] .colab-df-convert {\n",
              "      background-color: #3B4455;\n",
              "      fill: #D2E3FC;\n",
              "    }\n",
              "\n",
              "    [theme=dark] .colab-df-convert:hover {\n",
              "      background-color: #434B5C;\n",
              "      box-shadow: 0px 1px 3px 1px rgba(0, 0, 0, 0.15);\n",
              "      filter: drop-shadow(0px 1px 2px rgba(0, 0, 0, 0.3));\n",
              "      fill: #FFFFFF;\n",
              "    }\n",
              "  </style>\n",
              "\n",
              "      <script>\n",
              "        const buttonEl =\n",
              "          document.querySelector('#df-da2d0012-b7e3-4d05-898c-18ef128a9698 button.colab-df-convert');\n",
              "        buttonEl.style.display =\n",
              "          google.colab.kernel.accessAllowed ? 'block' : 'none';\n",
              "\n",
              "        async function convertToInteractive(key) {\n",
              "          const element = document.querySelector('#df-da2d0012-b7e3-4d05-898c-18ef128a9698');\n",
              "          const dataTable =\n",
              "            await google.colab.kernel.invokeFunction('convertToInteractive',\n",
              "                                                     [key], {});\n",
              "          if (!dataTable) return;\n",
              "\n",
              "          const docLinkHtml = 'Like what you see? Visit the ' +\n",
              "            '<a target=\"_blank\" href=https://colab.research.google.com/notebooks/data_table.ipynb>data table notebook</a>'\n",
              "            + ' to learn more about interactive tables.';\n",
              "          element.innerHTML = '';\n",
              "          dataTable['output_type'] = 'display_data';\n",
              "          await google.colab.output.renderOutput(dataTable, element);\n",
              "          const docLink = document.createElement('div');\n",
              "          docLink.innerHTML = docLinkHtml;\n",
              "          element.appendChild(docLink);\n",
              "        }\n",
              "      </script>\n",
              "    </div>\n",
              "  </div>\n",
              "  "
            ]
          },
          "metadata": {},
          "execution_count": 18
        }
      ],
      "source": [
        "tabel_3= {'kelebihan' :['Pengimplementasian algoritma lebih mudah dibandingkan functional','Style bersifat umum', 'Bersifat flow step-by-step jadi lebih mudah dibaca'],\n",
        "         'kekurangan' : ['Flow data tidak aman', 'Membutuhkan ruang memory yang lebih besar', 'Reusability']\n",
        "        }\n",
        "df = pd.DataFrame (tabel_3)\n",
        "df.head()"
      ]
    },
    {
      "cell_type": "markdown",
      "id": "92e68719-bb4a-4a1c-839a-cd29633e4f75",
      "metadata": {
        "jp-MarkdownHeadingCollapsed": true,
        "tags": [],
        "id": "92e68719-bb4a-4a1c-839a-cd29633e4f75"
      },
      "source": [
        "# Nomor 4\n",
        "Apa yang dimaksud dengan pure functional programming language?\n"
      ]
    },
    {
      "cell_type": "markdown",
      "id": "207cb214-2fb5-491d-ace9-ec566ae87806",
      "metadata": {
        "id": "207cb214-2fb5-491d-ace9-ec566ae87806"
      },
      "source": [
        "Pure functional programming language adalah salah satu dari dua jenis functional programming language. Merupakan bahasa fungsional murni dimana fungsi tidak dapat mengamati hal-hal selain inputnya. beberapa bahasa yang terdapat pada pure functional programming language adalah : Elm, Haskell, Hope, Idris, Purescript dll."
      ]
    },
    {
      "cell_type": "markdown",
      "id": "820b95fa-54c8-4dda-80e6-704a39f4e38e",
      "metadata": {
        "jp-MarkdownHeadingCollapsed": true,
        "tags": [],
        "id": "820b95fa-54c8-4dda-80e6-704a39f4e38e"
      },
      "source": [
        "# Nomor 5\n",
        " Dari bahasa pemrograman FP di slide sebelumnya ( slide 14 ) , manakah \n",
        "yang termasuk pure functional programming language?"
      ]
    },
    {
      "cell_type": "markdown",
      "id": "0a9e860f-9a3a-43f6-81c6-a2ebf2c237f3",
      "metadata": {
        "id": "0a9e860f-9a3a-43f6-81c6-a2ebf2c237f3"
      },
      "source": [
        "Haskell"
      ]
    },
    {
      "cell_type": "markdown",
      "id": "8f948c3d-1335-4c56-9e30-4a5c1424d83f",
      "metadata": {
        "id": "8f948c3d-1335-4c56-9e30-4a5c1424d83f"
      },
      "source": [
        "# Nomor 6\n",
        "Membuat program Simple Password encryption, dengan ketentuan\n",
        "1. Input password bertipe string dengan batasan panjang password \n",
        "100 karakter\n",
        "2. Setiap karakter dari string tersebut diubah menjadi ASCII value\n",
        "3. Kemudian setiap ASCII value tersebut dikembangkan menjadi 3 \n",
        "value dengan dilakukan operasi berikut:\n",
        "1. Value pertama dibagi dengan integer 26 kemudian \n",
        "dibulatkan dan dijumlahkan dengan 80 kemudian diubah \n",
        "kembali menjadi karakter\n",
        "2. Value kedua dihitung sisa bagi dengan 26 kemudian \n",
        "dijumlahkan dengan 80 kemudian diubah kembali menjadi \n",
        "karakter\n",
        "3. Value ketiga adalah karakter ‘+’ jika value pertama lebih \n",
        "besar dari value kedua, atau value ketiga adalah karakter ‘-’ \n",
        "jika value pertama tidak lebih besar dari value kedua\n",
        "4. Deretkan value pertama, kedua dan ketiga untuk setiap karakter \n",
        "dalam password tersebut sehingga didapatkan password dalam \n",
        "bentuk baru"
      ]
    },
    {
      "cell_type": "code",
      "execution_count": 21,
      "id": "4077a5ce-7b95-483f-ae25-1338a11c775e",
      "metadata": {
        "id": "4077a5ce-7b95-483f-ae25-1338a11c775e"
      },
      "outputs": [],
      "source": [
        "def encrypt_password(key):\n",
        "    if len(key) > 100:\n",
        "        return \"Error: Kata terlalu panjang\"\n",
        "\n",
        "    encrypted_password = \"\"\n",
        "    for char in key:\n",
        "        ascii_value = ord(char)\n",
        "        first_value = round((ascii_value / 26)) + 80\n",
        "        second_value = (ascii_value % 26) + 80\n",
        "        third_value = '+' if first_value > second_value else '-'\n",
        "        encrypted_password += chr(first_value) + chr(second_value) + third_value\n",
        "\n",
        "    return encrypted_password\n"
      ]
    },
    {
      "cell_type": "code",
      "execution_count": 23,
      "id": "1a959623-c47d-4a4c-a89f-70a74dee842d",
      "metadata": {
        "colab": {
          "base_uri": "https://localhost:8080/"
        },
        "id": "1a959623-c47d-4a4c-a89f-70a74dee842d",
        "outputId": "b3e216f5-db34-4a3d-a076-ea480a751004"
      },
      "outputs": [
        {
          "output_type": "stream",
          "name": "stdout",
          "text": [
            "Tc-TS+T]-TU-Tc-T]-Td-T]-Tc-T\\-TX-Tc-T[-T[-\n"
          ]
        }
      ],
      "source": [
        "print(encrypt_password(\"akumaubuatpass\"))\n"
      ]
    }
  ],
  "metadata": {
    "kernelspec": {
      "display_name": "Python 3 (ipykernel)",
      "language": "python",
      "name": "python3"
    },
    "language_info": {
      "codemirror_mode": {
        "name": "ipython",
        "version": 3
      },
      "file_extension": ".py",
      "mimetype": "text/x-python",
      "name": "python",
      "nbconvert_exporter": "python",
      "pygments_lexer": "ipython3",
      "version": "3.10.7"
    },
    "colab": {
      "provenance": []
    }
  },
  "nbformat": 4,
  "nbformat_minor": 5
}